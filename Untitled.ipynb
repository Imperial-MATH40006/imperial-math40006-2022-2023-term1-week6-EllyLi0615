{
 "cells": [
  {
   "cell_type": "code",
   "execution_count": 25,
   "id": "dd8cce91",
   "metadata": {
    "scrolled": true
   },
   "outputs": [
    {
     "data": {
      "text/plain": [
       "'The regular solid known as the cube has 6 square faces, 12 edges and 8 vertices.'"
      ]
     },
     "execution_count": 25,
     "metadata": {},
     "output_type": "execute_result"
    }
   ],
   "source": [
    "polyhedron_template3 = polyhedron_template = 'The regular solid known as the {0[4]} has {0[2]} {0[3]} faces, {0[1]} edges and {0[0]} vertices.'\n",
    "cube_data = (8, 12, 6, 'square', 'cube')\n",
    "polyhedron_template3.format(cube_data)\n"
   ]
  },
  {
   "cell_type": "code",
   "execution_count": 19,
   "id": "0d8d4473",
   "metadata": {},
   "outputs": [
    {
     "data": {
      "text/plain": [
       "'x1y2z3'"
      ]
     },
     "execution_count": 19,
     "metadata": {},
     "output_type": "execute_result"
    }
   ],
   "source": [
    "s = \"x{}y{}z{}\"\n",
    "tup = (1,2,3)\n",
    "s.format(*tup)"
   ]
  },
  {
   "cell_type": "code",
   "execution_count": 21,
   "id": "ff66b912",
   "metadata": {},
   "outputs": [
    {
     "data": {
      "text/plain": [
       "'The regular solid known as the 8 has 12 6 faces, square edges and cube vertices.'"
      ]
     },
     "execution_count": 21,
     "metadata": {},
     "output_type": "execute_result"
    }
   ],
   "source": [
    "polyhedron_template3 = polyhedron_template = 'The regular solid known as the {} has {} {} faces, {} edges and {} vertices.'\n",
    "cube_data = (8, 12, 6, 'square', 'cube')\n",
    "polyhedron_template3.format(*cube_data)"
   ]
  },
  {
   "cell_type": "code",
   "execution_count": 37,
   "id": "c914a08d",
   "metadata": {},
   "outputs": [
    {
     "name": "stdout",
     "output_type": "stream",
     "text": [
      "5\n"
     ]
    }
   ],
   "source": [
    "import random\n",
    "\n",
    "print(random.randint(1, 5))"
   ]
  },
  {
   "cell_type": "code",
   "execution_count": null,
   "id": "900d8e32",
   "metadata": {},
   "outputs": [],
   "source": []
  }
 ],
 "metadata": {
  "kernelspec": {
   "display_name": "Python 3 (ipykernel)",
   "language": "python",
   "name": "python3"
  },
  "language_info": {
   "codemirror_mode": {
    "name": "ipython",
    "version": 3
   },
   "file_extension": ".py",
   "mimetype": "text/x-python",
   "name": "python",
   "nbconvert_exporter": "python",
   "pygments_lexer": "ipython3",
   "version": "3.9.12"
  }
 },
 "nbformat": 4,
 "nbformat_minor": 5
}
